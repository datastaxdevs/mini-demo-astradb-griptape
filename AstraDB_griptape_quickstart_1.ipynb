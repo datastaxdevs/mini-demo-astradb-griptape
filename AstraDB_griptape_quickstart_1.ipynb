{
 "cells": [
  {
   "cell_type": "markdown",
   "id": "f4a26cc9-9698-4b5c-8316-8ac1e6519d73",
   "metadata": {},
   "source": [
    "# Integrate Griptape with Astra DB Serverless"
   ]
  },
  {
   "cell_type": "markdown",
   "id": "c2210c92-57b6-4e6f-812e-3bf7c287af05",
   "metadata": {},
   "source": [
    "For more information, see the DataStax [Astra DB docs page](https://docs.datastax.com/en/astra-db-serverless/integrations/griptape.html)."
   ]
  },
  {
   "cell_type": "code",
   "execution_count": null,
   "id": "81f5442f-4a14-48cc-a5a9-093598a62066",
   "metadata": {
    "scrolled": true
   },
   "outputs": [],
   "source": [
    "!pip install --upgrade pip\n",
    "!pip install --upgrade setuptools\n",
    "\n",
    "!pip install \"griptape[drivers-vector-astra-db,drivers-web-scraper-trafilatura]\" \"python-dotenv==1.0.1\""
   ]
  },
  {
   "cell_type": "markdown",
   "id": "be41160c-f852-4c98-8193-1a175815668c",
   "metadata": {},
   "source": [
    "## Prerequisites\n",
    "\n",
    "- Have the API Endpoint for your Astra DB\n",
    "- Have an Application Token for your Astra DB\n",
    "- Create a collection called `\"griptape_integration\"` with \"Bring your own\" embeddings and dimension 1536\n",
    "- Have an OpenAI API Key"
   ]
  },
  {
   "cell_type": "markdown",
   "id": "81b35629-fe60-47bd-9f75-923705d52b05",
   "metadata": {},
   "source": [
    "## Secrets\n",
    "\n",
    "Example values:\n",
    "\n",
    "- API Endpoint: `\"https://01234567-89ab-cdef-0123-456789abcdef-us-east1.apps.astra.datastax.com\"`\n",
    "- Token: `\"AstraCS:6gBhNmsk135...\"`\n",
    "- OpenAI API key: `\"sk-...\"`"
   ]
  },
  {
   "cell_type": "code",
   "execution_count": null,
   "id": "93c76404-d340-4341-bcf6-9949a421cb61",
   "metadata": {},
   "outputs": [],
   "source": [
    "import os\n",
    "from getpass import getpass\n",
    "\n",
    "\n",
    "os.environ[\"ASTRA_DB_APPLICATION_TOKEN\"] = getpass(\"ASTRA_DB_APPLICATION_TOKEN = \")\n",
    "os.environ[\"ASTRA_DB_API_ENDPOINT\"] = input(\"ASTRA_DB_API_ENDPOINT = \")\n",
    "if _desired_namespace := input(\"ASTRA_DB_NAMESPACE (optional) = \"):\n",
    "    os.environ[\"ASTRA_DB_NAMESPACE\"] = _desired_namespace\n",
    "\n",
    "default_collection_name = \"griptape_integration\"\n",
    "os.environ[\"GRIPTAPE_COLLECTION_NAME\"] = input(\"GRIPTAPE_COLLECTION_NAME (empty for default) = \") or default_collection_name\n",
    "os.environ[\"OPENAI_API_KEY\"] = getpass(\"OPENAI_API_KEY = \")"
   ]
  },
  {
   "cell_type": "markdown",
   "id": "276c66f5-6362-40e4-a632-2a6afbbaae6d",
   "metadata": {},
   "source": [
    "## Dependencies"
   ]
  },
  {
   "cell_type": "code",
   "execution_count": null,
   "id": "4fbac0a9-0739-4120-abbe-36dc1f61315a",
   "metadata": {},
   "outputs": [],
   "source": [
    "from griptape.drivers import (\n",
    "    AstraDbVectorStoreDriver,\n",
    "    OpenAiChatPromptDriver,\n",
    "    OpenAiEmbeddingDriver,\n",
    ")\n",
    "from griptape.engines.rag import RagEngine\n",
    "from griptape.engines.rag.modules import (\n",
    "    PromptResponseRagModule,\n",
    "    VectorStoreRetrievalRagModule,\n",
    ")\n",
    "from griptape.engines.rag.stages import ResponseRagStage, RetrievalRagStage\n",
    "from griptape.loaders import WebLoader\n",
    "from griptape.structures import Agent\n",
    "from griptape.tools import RagClient, TaskMemoryClient"
   ]
  },
  {
   "cell_type": "code",
   "execution_count": null,
   "id": "97c2595a-5174-444d-9bb4-7d54454f2ae7",
   "metadata": {},
   "outputs": [],
   "source": [
    "ASTRA_DB_APPLICATION_TOKEN = os.environ[\"ASTRA_DB_APPLICATION_TOKEN\"]\n",
    "ASTRA_DB_API_ENDPOINT = os.environ[\"ASTRA_DB_API_ENDPOINT\"]\n",
    "ASTRA_DB_NAMESPACE = os.environ.get(\"ASTRA_DB_NAMESPACE\")\n",
    "GRIPTAPE_COLLECTION_NAME = os.environ[\"GRIPTAPE_COLLECTION_NAME\"]"
   ]
  },
  {
   "cell_type": "markdown",
   "id": "7a252ed1-3249-4feb-bebe-308bee524b1f",
   "metadata": {},
   "source": [
    "## Initialize Vector Store and RAG Engine"
   ]
  },
  {
   "cell_type": "code",
   "execution_count": null,
   "id": "b76682bb-9eae-49b0-8522-c57c21b081b1",
   "metadata": {},
   "outputs": [],
   "source": [
    "namespace = \"datastax_blog\"\n",
    "\n",
    "vector_store_driver = AstraDbVectorStoreDriver(\n",
    "    embedding_driver=OpenAiEmbeddingDriver(),\n",
    "    api_endpoint=ASTRA_DB_API_ENDPOINT,\n",
    "    token=ASTRA_DB_APPLICATION_TOKEN,\n",
    "    collection_name=GRIPTAPE_COLLECTION_NAME,\n",
    "    astra_db_namespace=ASTRA_DB_NAMESPACE,\n",
    ")\n",
    "\n",
    "engine = RagEngine(\n",
    "    retrieval_stage=RetrievalRagStage(\n",
    "        retrieval_modules=[\n",
    "            VectorStoreRetrievalRagModule(\n",
    "                vector_store_driver=vector_store_driver,\n",
    "                query_params={\n",
    "                    \"count\": 2,\n",
    "                    \"namespace\": namespace,\n",
    "                },\n",
    "            )\n",
    "        ]\n",
    "    ),\n",
    "    response_stage=ResponseRagStage(\n",
    "        response_module=PromptResponseRagModule(\n",
    "            prompt_driver=OpenAiChatPromptDriver(model=\"gpt-4o\")\n",
    "        )\n",
    "    )\n",
    ")"
   ]
  },
  {
   "cell_type": "markdown",
   "id": "7533a434-f2d9-49fe-97b6-681a6cb1f132",
   "metadata": {},
   "source": [
    "## Ingest a Web page in the Vector Store"
   ]
  },
  {
   "cell_type": "code",
   "execution_count": null,
   "id": "f0a584df-6766-4264-9446-b381e10de78c",
   "metadata": {},
   "outputs": [],
   "source": [
    "input_blogpost = (\n",
    "    \"www.datastax.com/blog/indexing-all-of-wikipedia-on-a-laptop\"\n",
    ")\n",
    "\n",
    "vector_store_driver.upsert_text_artifacts(\n",
    "    {namespace: WebLoader(max_tokens=256).load(input_blogpost)}\n",
    ")"
   ]
  },
  {
   "cell_type": "markdown",
   "id": "726a9eec-93cd-4bef-9c20-4205bb236639",
   "metadata": {},
   "source": [
    "## Pass the RAG Engine as a tool to an Agent"
   ]
  },
  {
   "cell_type": "code",
   "execution_count": null,
   "id": "2a13695a-a2e2-47a4-b77f-fb65dcfffd35",
   "metadata": {},
   "outputs": [],
   "source": [
    "vector_store_tool = RagClient(\n",
    "    description=\"A DataStax blog post\",\n",
    "    rag_engine=engine,\n",
    ")\n",
    "agent = Agent(tools=[vector_store_tool, TaskMemoryClient(off_prompt=False)])"
   ]
  },
  {
   "cell_type": "markdown",
   "id": "2a5d0874-db91-4392-b417-6a72cac9bc62",
   "metadata": {},
   "source": [
    "## Have the Agent run a RAG query on the Vector Store"
   ]
  },
  {
   "cell_type": "code",
   "execution_count": null,
   "id": "02f8ffc6-3db7-47b8-937e-191774bab782",
   "metadata": {},
   "outputs": [],
   "source": [
    "agent.run(\n",
    "    \"What engine made possible to index such an amount of data, \"\n",
    "    \"and what kind of tuning was required?\"\n",
    ")\n",
    "\n",
    "answer = agent.output_task.output.value\n",
    "\n",
    "print(answer)"
   ]
  }
 ],
 "metadata": {
  "kernelspec": {
   "display_name": "Python 3 (ipykernel)",
   "language": "python",
   "name": "python3"
  },
  "language_info": {
   "codemirror_mode": {
    "name": "ipython",
    "version": 3
   },
   "file_extension": ".py",
   "mimetype": "text/x-python",
   "name": "python",
   "nbconvert_exporter": "python",
   "pygments_lexer": "ipython3",
   "version": "3.9.19"
  }
 },
 "nbformat": 4,
 "nbformat_minor": 5
}
